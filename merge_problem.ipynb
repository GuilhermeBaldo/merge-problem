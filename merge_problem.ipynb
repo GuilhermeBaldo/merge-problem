{
 "cells": [
  {
   "cell_type": "code",
   "execution_count": 8,
   "metadata": {},
   "outputs": [],
   "source": [
    "from utils import *"
   ]
  },
  {
   "cell_type": "code",
   "execution_count": 9,
   "metadata": {},
   "outputs": [],
   "source": [
    "input_path = 'case_1_input.json'\n",
    "input_containers = parse_input(input_path)"
   ]
  },
  {
   "cell_type": "code",
   "execution_count": 10,
   "metadata": {},
   "outputs": [],
   "source": [
    "input_containers = sorted(input_containers, key=lambda container: container['y']['start'])"
   ]
  },
  {
   "cell_type": "code",
   "execution_count": 11,
   "metadata": {},
   "outputs": [],
   "source": [
    "a = {\n",
    "    'x': {'start': 0, 'end': 2},\n",
    "    'y': {'start': 0, 'end': 1},\n",
    "    'z': {'start': 0, 'end': 1},\n",
    "}\n",
    "\n",
    "b = {\n",
    "    'x': {'start': 0, 'end': 2},\n",
    "    'y': {'start': 0, 'end': 2},\n",
    "    'z': {'start': 1, 'end': 2},\n",
    "}"
   ]
  },
  {
   "cell_type": "code",
   "execution_count": 12,
   "metadata": {},
   "outputs": [
    {
     "data": {
      "text/plain": [
       "[{'x': {'start': 0, 'end': 2},\n",
       "  'y': {'start': 0, 'end': 1},\n",
       "  'z': {'start': 0, 'end': 1}},\n",
       " {'x': {'start': 0, 'end': 2},\n",
       "  'y': {'start': 0, 'end': 2},\n",
       "  'z': {'start': 1, 'end': 2}},\n",
       " {'x': {'start': 0, 'end': 2},\n",
       "  'y': {'start': 0, 'end': 1},\n",
       "  'z': {'start': 0, 'end': 2}}]"
      ]
     },
     "execution_count": 12,
     "metadata": {},
     "output_type": "execute_result"
    }
   ],
   "source": [
    "merge(a, b)"
   ]
  },
  {
   "cell_type": "code",
   "execution_count": 13,
   "metadata": {},
   "outputs": [
    {
     "data": {
      "text/plain": [
       "[{'x': {'start': 0, 'end': 2},\n",
       "  'y': {'start': 0, 'end': 1},\n",
       "  'z': {'start': 0, 'end': 1}},\n",
       " {'x': {'start': 0, 'end': 2},\n",
       "  'y': {'start': 0, 'end': 2},\n",
       "  'z': {'start': 1, 'end': 2}},\n",
       " {'x': {'start': 0, 'end': 2},\n",
       "  'y': {'start': 0, 'end': 1},\n",
       "  'z': {'start': 0, 'end': 2}}]"
      ]
     },
     "execution_count": 13,
     "metadata": {},
     "output_type": "execute_result"
    }
   ],
   "source": [
    "remove_duplicate_containers((merge(a,b)))"
   ]
  },
  {
   "cell_type": "code",
   "execution_count": 14,
   "metadata": {},
   "outputs": [
    {
     "data": {
      "text/plain": [
       "[{'x': {'start': 0, 'end': 2},\n",
       "  'y': {'start': 0, 'end': 2},\n",
       "  'z': {'start': 1, 'end': 2}},\n",
       " {'x': {'start': 0, 'end': 2},\n",
       "  'y': {'start': 0, 'end': 1},\n",
       "  'z': {'start': 0, 'end': 2}}]"
      ]
     },
     "execution_count": 14,
     "metadata": {},
     "output_type": "execute_result"
    }
   ],
   "source": [
    "remove_sub_containers(remove_duplicate_containers((merge(a,b))))"
   ]
  }
 ],
 "metadata": {
  "interpreter": {
   "hash": "dcd42bedd4b4bbcb04dd3becffc9fb93002786d11d367877665ba302b6e040bc"
  },
  "kernelspec": {
   "display_name": "Python 3.8.8 ('.venv': venv)",
   "language": "python",
   "name": "python3"
  },
  "language_info": {
   "codemirror_mode": {
    "name": "ipython",
    "version": 3
   },
   "file_extension": ".py",
   "mimetype": "text/x-python",
   "name": "python",
   "nbconvert_exporter": "python",
   "pygments_lexer": "ipython3",
   "version": "3.8.8"
  },
  "orig_nbformat": 4
 },
 "nbformat": 4,
 "nbformat_minor": 2
}
