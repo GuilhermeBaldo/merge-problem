{
 "cells": [
  {
   "cell_type": "code",
   "execution_count": 55,
   "metadata": {},
   "outputs": [],
   "source": [
    "from utils import parse_input, save_output, is_mergeable, merge, calculate__volume\n",
    "\n",
    "import matplotlib.pyplot as plt"
   ]
  },
  {
   "cell_type": "code",
   "execution_count": 56,
   "metadata": {},
   "outputs": [],
   "source": [
    "input_path = 'case_1_input.json'\n",
    "input_containers = parse_input(input_path)"
   ]
  },
  {
   "cell_type": "code",
   "execution_count": 57,
   "metadata": {},
   "outputs": [
    {
     "name": "stdout",
     "output_type": "stream",
     "text": [
      "There are 120 containers in the input file\n"
     ]
    }
   ],
   "source": [
    "len_input_containers = len(input_containers)\n",
    "print(f'There are {len_input_containers} containers in the input file')"
   ]
  },
  {
   "cell_type": "code",
   "execution_count": 58,
   "metadata": {},
   "outputs": [
    {
     "name": "stdout",
     "output_type": "stream",
     "text": [
      "Maximum output containers set to 360\n"
     ]
    }
   ],
   "source": [
    "\n",
    "maximum_output_containers = 3*len(input_containers)\n",
    "print(f'Maximum output containers set to {maximum_output_containers}')"
   ]
  },
  {
   "cell_type": "code",
   "execution_count": 59,
   "metadata": {},
   "outputs": [],
   "source": [
    "mergeable_containers = []\n",
    "for i in range(len_input_containers):\n",
    "    for j in range(i, len_input_containers):\n",
    "        if(is_mergeable(input_containers[i], input_containers[j])):\n",
    "            mergeable_containers.append((input_containers[i], input_containers[j]))"
   ]
  },
  {
   "cell_type": "code",
   "execution_count": 60,
   "metadata": {},
   "outputs": [
    {
     "data": {
      "text/plain": [
       "{'x': {'start': 0.594, 'end': 1.344},\n",
       " 'y': {'start': 1.092, 'end': 2.46},\n",
       " 'z': {'start': 5.68, 'end': 6.17},\n",
       " 'id': 0}"
      ]
     },
     "execution_count": 60,
     "metadata": {},
     "output_type": "execute_result"
    }
   ],
   "source": [
    "input_containers[0]"
   ]
  },
  {
   "cell_type": "code",
   "execution_count": 61,
   "metadata": {},
   "outputs": [
    {
     "data": {
      "text/plain": [
       "0.5027400000000002"
      ]
     },
     "execution_count": 61,
     "metadata": {},
     "output_type": "execute_result"
    }
   ],
   "source": [
    "volume_c = calculate_container_volume(input_containers[0])\n",
    "volume_c"
   ]
  },
  {
   "cell_type": "code",
   "execution_count": 62,
   "metadata": {},
   "outputs": [
    {
     "data": {
      "text/plain": [
       "Text(0.5, 0, 'value')"
      ]
     },
     "execution_count": 62,
     "metadata": {},
     "output_type": "execute_result"
    },
    {
     "data": {
      "image/png": "[encoded data removed]",
      "text/plain": [
       "<Figure size 432x288 with 1 Axes>"
      ]
     },
     "metadata": {
      "needs_background": "light"
     },
     "output_type": "display_data"
    }
   ],
   "source": [
    "container_list = {\n",
    "    'x': {'start': [], 'end': []},\n",
    "    'y': {'start': [], 'end': []},\n",
    "    'z': {'start': [], 'end': []},\n",
    "}\n",
    "\n",
    "for container in input_containers:\n",
    "    for dim in ['x', 'y', 'z']:\n",
    "        for point in ['start', 'end']:\n",
    "            container_list[dim][point].append(container[dim][point])\n",
    "\n",
    "plt.hist(container_list['y']['start'], density=True, bins=100)\n",
    "plt.ylabel('frequency')\n",
    "plt.xlabel('value')"
   ]
  },
  {
   "cell_type": "code",
   "execution_count": 63,
   "metadata": {},
   "outputs": [],
   "source": [
    "output_path = 'output'.join(input_path.split('input'))\n",
    "\n",
    "output_containers = input_containers\n",
    "save_output(output_path, output_containers)"
   ]
  }
 ],
 "metadata": {
  "interpreter": {
   "hash": "03c5ff28f6498d3c5b52c871acc7698f220e296b3f82c863c51c597fbce760d9"
  },
  "kernelspec": {
   "display_name": "Python 3.8.8 ('.venv': venv)",
   "language": "python",
   "name": "python3"
  },
  "language_info": {
   "codemirror_mode": {
    "name": "ipython",
    "version": 3
   },
   "file_extension": ".py",
   "mimetype": "text/x-python",
   "name": "python",
   "nbconvert_exporter": "python",
   "pygments_lexer": "ipython3",
   "version": "3.8.8"
  },
  "orig_nbformat": 4
 },
 "nbformat": 4,
 "nbformat_minor": 2
}
