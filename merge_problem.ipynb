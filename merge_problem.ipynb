{
 "cells": [
  {
   "cell_type": "code",
   "execution_count": 31,
   "metadata": {},
   "outputs": [],
   "source": [
    "from utils import *"
   ]
  },
  {
   "cell_type": "code",
   "execution_count": 32,
   "metadata": {},
   "outputs": [
    {
     "data": {
      "text/plain": [
       "120"
      ]
     },
     "execution_count": 32,
     "metadata": {},
     "output_type": "execute_result"
    }
   ],
   "source": [
    "input_path = 'case_1_input.json'\n",
    "input_containers = parse_input(input_path)\n",
    "len(input_containers)"
   ]
  },
  {
   "cell_type": "code",
   "execution_count": 33,
   "metadata": {},
   "outputs": [],
   "source": [
    "input_containers = sorted(input_containers, key=lambda container: container['y']['start'])    "
   ]
  },
  {
   "cell_type": "code",
   "execution_count": 34,
   "metadata": {},
   "outputs": [
    {
     "data": {
      "text/plain": [
       "{'x': {'start': 0.301, 'end': 0.32},\n",
       " 'y': {'start': 0, 'end': 2.46},\n",
       " 'z': {'start': 6.805, 'end': 8.93},\n",
       " 'id': 24}"
      ]
     },
     "execution_count": 34,
     "metadata": {},
     "output_type": "execute_result"
    }
   ],
   "source": [
    "input_containers[3]"
   ]
  },
  {
   "cell_type": "code",
   "execution_count": 35,
   "metadata": {},
   "outputs": [],
   "source": [
    "container_a = {\n",
    "    'x': {\n",
    "        'start':0,\n",
    "        'end':1\n",
    "    },\n",
    "    'y': {\n",
    "        'start':0,\n",
    "        'end':1\n",
    "    },\n",
    "    'z': {\n",
    "        'start':1.5,\n",
    "        'end':2\n",
    "    }\n",
    "}\n",
    "\n",
    "container_b = {\n",
    "    'x': {\n",
    "        'start':1,\n",
    "        'end':2\n",
    "    },\n",
    "    'y': {\n",
    "        'start':0,\n",
    "        'end':1\n",
    "    },\n",
    "    'z': {\n",
    "        'start':0,\n",
    "        'end':1.5\n",
    "    }\n",
    "}"
   ]
  },
  {
   "cell_type": "code",
   "execution_count": 36,
   "metadata": {},
   "outputs": [
    {
     "data": {
      "text/plain": [
       "True"
      ]
     },
     "execution_count": 36,
     "metadata": {},
     "output_type": "execute_result"
    }
   ],
   "source": [
    "do_overlap(container_a, container_b)"
   ]
  },
  {
   "cell_type": "code",
   "execution_count": 37,
   "metadata": {},
   "outputs": [],
   "source": [
    "output_path = 'output'.join(input_path.split('input'))\n",
    "output_containers = input_containers\n",
    "save_output(output_path, output_containers)"
   ]
  }
 ],
 "metadata": {
  "interpreter": {
   "hash": "03c5ff28f6498d3c5b52c871acc7698f220e296b3f82c863c51c597fbce760d9"
  },
  "kernelspec": {
   "display_name": "Python 3.8.8 ('.venv': venv)",
   "language": "python",
   "name": "python3"
  },
  "language_info": {
   "codemirror_mode": {
    "name": "ipython",
    "version": 3
   },
   "file_extension": ".py",
   "mimetype": "text/x-python",
   "name": "python",
   "nbconvert_exporter": "python",
   "pygments_lexer": "ipython3",
   "version": "3.8.8"
  },
  "orig_nbformat": 4
 },
 "nbformat": 4,
 "nbformat_minor": 2
}
